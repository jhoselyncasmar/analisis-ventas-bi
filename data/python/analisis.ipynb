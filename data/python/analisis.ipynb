{
 "cells": [
  {
   "cell_type": "code",
   "execution_count": null,
   "metadata": {},
   "outputs": [],
   "source": [
    "import pandas as pd\n",
    "import matplotlib.pyplot as plt\n\n",
    "# Cargar dataset\n",
    "df = pd.read_csv('../data/ventas.csv')\n\n",
    "# Ventas por producto\n",
    "ventas_producto = df.groupby('Producto')['Ventas'].sum()\n",
    "print(ventas_producto)\n\n",
    "# Visualización\n",
    "ventas_producto.plot(kind='bar', title='Ventas por Producto', ylabel='Ventas')\n",
    "plt.show()"
   ]
  }
 ],
 "metadata": {},
 "nbformat": 4,
 "nbformat_minor": 2
}
